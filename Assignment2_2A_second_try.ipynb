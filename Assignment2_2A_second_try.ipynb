{
 "cells": [
  {
   "cell_type": "markdown",
   "metadata": {},
   "source": [
    "# Portfolio Optimization Analysis\n",
    "This notebook conducts a portfolio optimization analysis, focusing on comparing the performance of a short-sale constrained portfolio with a mean-variance optimal portfolio. We cover data loading, preparation, portfolio optimization, and performance comparison."
   ]
  },
  {
   "cell_type": "markdown",
   "metadata": {},
   "source": [
    "## Step 1: Import Necessary Libraries\n",
    "Import all the required Python libraries for data manipulation, numerical analysis, and portfolio optimization."
   ]
  },
  {
   "cell_type": "code",
   "execution_count": 2,
   "metadata": {},
   "outputs": [],
   "source": [
    "import numpy as np\n",
    "import pandas as pd\n",
    "from scipy.optimize import minimize"
   ]
  },
  {
   "cell_type": "markdown",
   "metadata": {},
   "source": [
    "## Step 2: Load and Prepare the Data\n",
    "Load the historical return data and prepare it by filtering for the relevant analysis period."
   ]
  },
  {
   "cell_type": "code",
   "execution_count": 3,
   "metadata": {},
   "outputs": [],
   "source": [
    "# Load the data\n",
    "data_path = 'Data_2A_2023.xlsx'  # Update this path as necessary\n",
    "data = pd.read_excel(data_path, index_col=0)\n",
    "\n",
    "# Filter data for the relevant periods\n",
    "data_until_2015 = data[data.index.year <= 2015]\n",
    "data_from_2016 = data[data.index.year >= 2016]"
   ]
  },
  {
   "cell_type": "markdown",
   "metadata": {},
   "source": [
    "## Step 3: Calculate Average Returns and Covariance Matrix\n",
    "Compute the average returns using only positive returns and the covariance matrix using all available data up until 2015."
   ]
  },
  {
   "cell_type": "code",
   "execution_count": 9,
   "metadata": {},
   "outputs": [
    {
     "data": {
      "text/plain": [
       "AAPL    0.124552\n",
       "DIS     0.056689\n",
       "GE      0.019221\n",
       "GS      0.050193\n",
       "MSFT    0.027795\n",
       "dtype: float64"
      ]
     },
     "execution_count": 9,
     "metadata": {},
     "output_type": "execute_result"
    }
   ],
   "source": [
    "# Using all returns up until 2015\n",
    "average_returns = data_until_2015.mean()\n",
    "covariance_matrix = data_until_2015.cov()\n",
    "\n",
    "sum_avg = sum(average_returns) / 5\n",
    "\n",
    "# Calculate average returns using only the days when the returns were positive\n",
    "positive_average_returns = data_until_2015[data_until_2015 > 0].mean()\n",
    "sum_avg_pos = sum(positive_average_returns) / 5\n",
    "\n",
    "average_returns"
   ]
  },
  {
   "cell_type": "code",
   "execution_count": 7,
   "metadata": {},
   "outputs": [
    {
     "data": {
      "text/plain": [
       "0.0556897326187464"
      ]
     },
     "execution_count": 7,
     "metadata": {},
     "output_type": "execute_result"
    }
   ],
   "source": [
    "sum_avg"
   ]
  },
  {
   "cell_type": "code",
   "execution_count": 10,
   "metadata": {},
   "outputs": [
    {
     "data": {
      "text/plain": [
       "1.5357618917167188"
      ]
     },
     "execution_count": 10,
     "metadata": {},
     "output_type": "execute_result"
    }
   ],
   "source": [
    "sum_avg_pos"
   ]
  },
  {
   "cell_type": "markdown",
   "metadata": {},
   "source": [
    "## Step 4: Define Portfolio Variance Function\n",
    "Define a function to calculate the portfolio variance based on the given weights and the covariance matrix.\n"
   ]
  },
  {
   "cell_type": "code",
   "execution_count": 4,
   "metadata": {},
   "outputs": [],
   "source": [
    "def portfolio_variance(weights, covariance_matrix):\n",
    "    return weights.T @ covariance_matrix @ weights"
   ]
  },
  {
   "cell_type": "markdown",
   "metadata": {},
   "source": [
    "## Step 5: Optimize Portfolios\n",
    "Perform portfolio optimization to find the weights that minimize variance while meeting a specified target return. This section includes optimizations for short-sale constrained portfolio, a mean-variance optimal portfolio and minimum variance portfolio."
   ]
  },
  {
   "cell_type": "code",
   "execution_count": 21,
   "metadata": {},
   "outputs": [
    {
     "data": {
      "text/plain": [
       "array([0.23534618, 0.24438574, 0.18070111, 0.12395144, 0.21561552])"
      ]
     },
     "execution_count": 21,
     "metadata": {},
     "output_type": "execute_result"
    }
   ],
   "source": [
    "# Calculate the target return as the mean of positive average returns\n",
    "target_return = np.mean(positive_average_returns)\n",
    "\n",
    "\n",
    "# Constraints: weights sum to 1\n",
    "constraints = [\n",
    "    {'type': 'eq', 'fun': lambda weights: np.sum(weights) - 1},\n",
    "    {'type': 'eq', 'fun': lambda weights: weights @ positive_average_returns - target_return}  # Achieve target return\n",
    "\n",
    "    ]\n",
    "\n",
    "# Initial guess\n",
    "initial_guess = np.full(len(positive_average_returns), 1 / len(positive_average_returns))\n",
    "\n",
    "# Perform optimization using scipy's minimize\n",
    "optimized_result = minimize(\n",
    "    fun=portfolio_variance,\n",
    "    x0=initial_guess,\n",
    "    args=(covariance_matrix,),\n",
    "    method='SLSQP',\n",
    "    constraints=constraints,\n",
    ")\n",
    "\n",
    "optimized_weights = optimized_result.x\n",
    "\n",
    "optimized_weights"
   ]
  },
  {
   "cell_type": "code",
   "execution_count": 22,
   "metadata": {},
   "outputs": [
    {
     "data": {
      "text/plain": [
       "array([0.1960708 , 0.33860056, 0.19563236, 0.03650267, 0.23319362])"
      ]
     },
     "execution_count": 22,
     "metadata": {},
     "output_type": "execute_result"
    }
   ],
   "source": [
    "# Define the target return for the mean-variance portfolio\n",
    "target_return_mv = np.mean(average_returns)  # Example: using the mean of average returns as the target\n",
    "\n",
    "# Constraints: Weights sum to 1 and achieve the target return\n",
    "constraints_mv = [\n",
    "    {'type': 'eq', 'fun': lambda weights: np.sum(weights) - 1},  # Sum of weights equals 1\n",
    "    {'type': 'eq', 'fun': lambda weights: weights @ average_returns - target_return_mv}  # Achieve target return\n",
    "]\n",
    "\n",
    "# No bounds for short selling, allowing negative weights\n",
    "bounds_mv = [(None, None) for _ in average_returns]  # This allows for short selling\n",
    "\n",
    "# Optimization for the mean-variance optimal portfolio\n",
    "mv_optimized_result = minimize(\n",
    "    fun=portfolio_variance,\n",
    "    x0=initial_guess,\n",
    "    args=(covariance_matrix,),\n",
    "    method='SLSQP',\n",
    "    constraints=constraints_mv,\n",
    "    bounds=bounds_mv\n",
    ")\n",
    "\n",
    "mv_optimized_weights = mv_optimized_result.x\n",
    "\n",
    "mv_optimized_weights"
   ]
  },
  {
   "cell_type": "code",
   "execution_count": 27,
   "metadata": {},
   "outputs": [
    {
     "data": {
      "text/plain": [
       "array([0.09033722, 0.2887378 , 0.29372827, 0.02036226, 0.30683445])"
      ]
     },
     "execution_count": 27,
     "metadata": {},
     "output_type": "execute_result"
    }
   ],
   "source": [
    "# Constraints: weights sum to 1; bounds prevent short selling\n",
    "constraints = [{'type': 'eq', 'fun': lambda weights: np.sum(weights) - 1}]\n",
    "\n",
    "# Initial guess\n",
    "initial_guess = np.full(len(average_returns), 1 / len(average_returns))\n",
    "\n",
    "# Optimization\n",
    "optimized_result_minimum = minimize(\n",
    "    fun=portfolio_variance,\n",
    "    x0=initial_guess,\n",
    "    args=(covariance_matrix,),\n",
    "    method='SLSQP',\n",
    "    constraints=constraints,\n",
    ")\n",
    "\n",
    "optimized_weights_minimum = optimized_result_minimum.x\n",
    "\n",
    "optimized_weights_minimum"
   ]
  },
  {
   "cell_type": "code",
   "execution_count": 23,
   "metadata": {},
   "outputs": [],
   "source": [
    "def calculate_annualized_performance(data, weights):\n",
    "    portfolio_returns = data @ weights\n",
    "    annualized_returns = portfolio_returns.mean() * 252\n",
    "    annualized_variance = portfolio_returns.var() * 252\n",
    "    return annualized_returns, annualized_variance"
   ]
  },
  {
   "cell_type": "markdown",
   "metadata": {},
   "source": [
    "## Step 6: Calculate Performance from 2016 Onwards\n",
    "Use the optimized weights to calculate and compare the annualized performance of both portfolios based on data from 2016 onwards.\n"
   ]
  },
  {
   "cell_type": "code",
   "execution_count": 29,
   "metadata": {},
   "outputs": [],
   "source": [
    "# Short-Sale Constrained Portfolio\n",
    "annualized_returns_constrained, annualized_variance_constrained = calculate_annualized_performance(data_from_2016, optimized_weights)\n",
    "\n",
    "# Mean-Variance Optimal Portfolio\n",
    "# Assuming `mv_optimized_weights` is defined\n",
    "annualized_returns_mv, annualized_variance_mv = calculate_annualized_performance(data_from_2016, mv_optimized_weights)\n",
    "\n",
    "annualized_returns_minimum, annualized_variance_minimum = calculate_annualized_performance(data_from_2016, optimized_weights_minimum)"
   ]
  },
  {
   "cell_type": "markdown",
   "metadata": {},
   "source": [
    "## Conclusion\n",
    "Summarize the findings from the portfolio optimization and performance comparison. Discuss the implications of short-sale constraints on portfolio performance.\n"
   ]
  },
  {
   "cell_type": "code",
   "execution_count": 30,
   "metadata": {},
   "outputs": [
    {
     "name": "stdout",
     "output_type": "stream",
     "text": [
      "Short-Sale Constrained Portfolio:\n",
      "Annualized Returns: 13.865884236684565\n",
      "Annualized Variance: 570.5643561487298\n",
      "\n",
      "Mean-Variance Optimal Portfolio:\n",
      "Annualized Returns: 11.948659031689811\n",
      "Annualized Variance: 573.1603783731881\n",
      "\n",
      "Minimum Variance Optimal Portfolio:\n",
      "Annualized Returns: 9.88613475925987\n",
      "Annualized Variance: 598.4660214270266\n",
      "\n"
     ]
    }
   ],
   "source": [
    "print(f\"Short-Sale Constrained Portfolio:\\nAnnualized Returns: {annualized_returns_constrained}\\nAnnualized Variance: {annualized_variance_constrained}\\n\")\n",
    "print(f\"Mean-Variance Optimal Portfolio:\\nAnnualized Returns: {annualized_returns_mv}\\nAnnualized Variance: {annualized_variance_mv}\\n\")\n",
    "print(f\"Minimum Variance Optimal Portfolio:\\nAnnualized Returns: {annualized_returns_minimum}\\nAnnualized Variance: {annualized_variance_minimum}\\n\")"
   ]
  }
 ],
 "metadata": {
  "kernelspec": {
   "display_name": "Python 3",
   "language": "python",
   "name": "python3"
  },
  "language_info": {
   "codemirror_mode": {
    "name": "ipython",
    "version": 3
   },
   "file_extension": ".py",
   "mimetype": "text/x-python",
   "name": "python",
   "nbconvert_exporter": "python",
   "pygments_lexer": "ipython3",
   "version": "3.11.8"
  }
 },
 "nbformat": 4,
 "nbformat_minor": 2
}
