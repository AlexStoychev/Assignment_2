{
 "cells": [
  {
   "cell_type": "markdown",
   "metadata": {},
   "source": [
    "# Portfolio Optimization - Basic Concepts"
   ]
  },
  {
   "cell_type": "code",
   "execution_count": 1,
   "metadata": {},
   "outputs": [
    {
     "name": "stdout",
     "output_type": "stream",
     "text": [
      "Expected Portfolio Return (mu_p): 0.05\n",
      "Expected Portfolio Variance (sigma_p_squared): 1.1\n"
     ]
    }
   ],
   "source": [
    "# Import necessary libraries\n",
    "import numpy as np\n",
    "\n",
    "## Example 1.1: Computing Expected Portfolio Return and Variance\n",
    "\n",
    "# The goal of this example is to calculate the expected return and variance\n",
    "# for a portfolio given its weights, the expected returns of the assets,\n",
    "# and the covariance matrix of the asset returns.\n",
    "\n",
    "# Define the expected returns vector (mu)\n",
    "mu = np.array([0.04, 0.06])\n",
    "# Expected returns for two assets\n",
    "\n",
    "# Define the covariance matrix (Sigma)\n",
    "Sigma = np.array([\n",
    "    [1, 0.7],\n",
    "    [0.7, 2]\n",
    "])\n",
    "# Covariance matrix representing how asset returns move together\n",
    "\n",
    "# Define the portfolio weights vector (w)\n",
    "w = np.array([0.5, 0.5])\n",
    "# Weights of the assets in the portfolio\n",
    "\n",
    "# Compute expected portfolio return (mu_p)\n",
    "mu_p = np.dot(w, mu)\n",
    "# This represents the weighted average of the expected returns\n",
    "\n",
    "# Compute expected portfolio variance (sigma_p_squared)\n",
    "sigma_p_squared = np.dot(np.dot(w, Sigma), w.T)\n",
    "# This calculation takes into account how the weights and the covariance\n",
    "# between the assets impact the portfolio's overall risk\n",
    "\n",
    "# Print the results\n",
    "print(f\"Expected Portfolio Return (mu_p): {mu_p}\")\n",
    "print(f\"Expected Portfolio Variance (sigma_p_squared): {sigma_p_squared}\")\n",
    "\n",
    "# Conclusion:\n",
    "# The expected portfolio return and variance are crucial metrics for assessing\n",
    "# the performance and risk of a portfolio. In this example, the portfolio is expected\n",
    "# to return 5% with a variance of 1.1, which helps in understanding the risk-return\n",
    "# trade-off of the portfolio.\n"
   ]
  },
  {
   "cell_type": "markdown",
   "metadata": {},
   "source": [
    "# Step 1: Reading the Data\n",
    "\n",
    "First, we need to import necessary libraries and load the data. We will use `pandas` for data manipulation and analysis. The `read_excel` function allows us to load the Excel file directly into a DataFrame. We specify the `index_col` parameter to use the first column as the index, which contains dates."
   ]
  },
  {
   "cell_type": "code",
   "execution_count": 6,
   "metadata": {},
   "outputs": [
    {
     "data": {
      "text/html": [
       "<div>\n",
       "<style scoped>\n",
       "    .dataframe tbody tr th:only-of-type {\n",
       "        vertical-align: middle;\n",
       "    }\n",
       "\n",
       "    .dataframe tbody tr th {\n",
       "        vertical-align: top;\n",
       "    }\n",
       "\n",
       "    .dataframe thead th {\n",
       "        text-align: right;\n",
       "    }\n",
       "</style>\n",
       "<table border=\"1\" class=\"dataframe\">\n",
       "  <thead>\n",
       "    <tr style=\"text-align: right;\">\n",
       "      <th></th>\n",
       "      <th>AAPL</th>\n",
       "      <th>DIS</th>\n",
       "      <th>GE</th>\n",
       "      <th>GS</th>\n",
       "      <th>MSFT</th>\n",
       "    </tr>\n",
       "    <tr>\n",
       "      <th>Date</th>\n",
       "      <th></th>\n",
       "      <th></th>\n",
       "      <th></th>\n",
       "      <th></th>\n",
       "      <th></th>\n",
       "    </tr>\n",
       "  </thead>\n",
       "  <tbody>\n",
       "    <tr>\n",
       "      <th>2000-01-03</th>\n",
       "      <td>8.875351</td>\n",
       "      <td>2.136762</td>\n",
       "      <td>-3.069418</td>\n",
       "      <td>-6.237617</td>\n",
       "      <td>-0.160553</td>\n",
       "    </tr>\n",
       "    <tr>\n",
       "      <th>2000-01-04</th>\n",
       "      <td>-8.430973</td>\n",
       "      <td>5.857729</td>\n",
       "      <td>-4.000059</td>\n",
       "      <td>-6.298665</td>\n",
       "      <td>-3.378026</td>\n",
       "    </tr>\n",
       "    <tr>\n",
       "      <th>2000-01-05</th>\n",
       "      <td>1.463246</td>\n",
       "      <td>4.150207</td>\n",
       "      <td>-0.173555</td>\n",
       "      <td>-4.682763</td>\n",
       "      <td>1.054386</td>\n",
       "    </tr>\n",
       "    <tr>\n",
       "      <th>2000-01-06</th>\n",
       "      <td>-8.653747</td>\n",
       "      <td>-3.984829</td>\n",
       "      <td>1.336983</td>\n",
       "      <td>4.278944</td>\n",
       "      <td>-3.349816</td>\n",
       "    </tr>\n",
       "    <tr>\n",
       "      <th>2000-01-07</th>\n",
       "      <td>4.736852</td>\n",
       "      <td>-1.581027</td>\n",
       "      <td>3.872088</td>\n",
       "      <td>0.379921</td>\n",
       "      <td>1.306844</td>\n",
       "    </tr>\n",
       "  </tbody>\n",
       "</table>\n",
       "</div>"
      ],
      "text/plain": [
       "                AAPL       DIS        GE        GS      MSFT\n",
       "Date                                                        \n",
       "2000-01-03  8.875351  2.136762 -3.069418 -6.237617 -0.160553\n",
       "2000-01-04 -8.430973  5.857729 -4.000059 -6.298665 -3.378026\n",
       "2000-01-05  1.463246  4.150207 -0.173555 -4.682763  1.054386\n",
       "2000-01-06 -8.653747 -3.984829  1.336983  4.278944 -3.349816\n",
       "2000-01-07  4.736852 -1.581027  3.872088  0.379921  1.306844"
      ]
     },
     "execution_count": 6,
     "metadata": {},
     "output_type": "execute_result"
    }
   ],
   "source": [
    "import pandas as pd\n",
    "\n",
    "# Load the dataset\n",
    "data_path = '../Assignment2/Data_2A_2023.xlsx'\n",
    "data = pd.read_excel(data_path, index_col=0)\n",
    "\n",
    "# Display the first few rows to understand its structure\n",
    "data.head()"
   ]
  },
  {
   "cell_type": "markdown",
   "metadata": {},
   "source": [
    "# Step 2.0: Filtering the Data\n",
    "\n",
    "Our analysis focuses on data up until the end of 2015. Let's filter the DataFrame to include only this period. This step ensures that our computations for average returns and the covariance matrix are based on the correct time frame.\n"
   ]
  },
  {
   "cell_type": "code",
   "execution_count": 7,
   "metadata": {},
   "outputs": [
    {
     "data": {
      "text/html": [
       "<div>\n",
       "<style scoped>\n",
       "    .dataframe tbody tr th:only-of-type {\n",
       "        vertical-align: middle;\n",
       "    }\n",
       "\n",
       "    .dataframe tbody tr th {\n",
       "        vertical-align: top;\n",
       "    }\n",
       "\n",
       "    .dataframe thead th {\n",
       "        text-align: right;\n",
       "    }\n",
       "</style>\n",
       "<table border=\"1\" class=\"dataframe\">\n",
       "  <thead>\n",
       "    <tr style=\"text-align: right;\">\n",
       "      <th></th>\n",
       "      <th>AAPL</th>\n",
       "      <th>DIS</th>\n",
       "      <th>GE</th>\n",
       "      <th>GS</th>\n",
       "      <th>MSFT</th>\n",
       "    </tr>\n",
       "    <tr>\n",
       "      <th>Date</th>\n",
       "      <th></th>\n",
       "      <th></th>\n",
       "      <th></th>\n",
       "      <th></th>\n",
       "      <th></th>\n",
       "    </tr>\n",
       "  </thead>\n",
       "  <tbody>\n",
       "    <tr>\n",
       "      <th>2015-12-24</th>\n",
       "      <td>-0.534017</td>\n",
       "      <td>0.284209</td>\n",
       "      <td>-0.387699</td>\n",
       "      <td>-0.262371</td>\n",
       "      <td>-0.268739</td>\n",
       "    </tr>\n",
       "    <tr>\n",
       "      <th>2015-12-28</th>\n",
       "      <td>-1.120066</td>\n",
       "      <td>1.313055</td>\n",
       "      <td>0.227049</td>\n",
       "      <td>-0.465854</td>\n",
       "      <td>0.502980</td>\n",
       "    </tr>\n",
       "    <tr>\n",
       "      <th>2015-12-29</th>\n",
       "      <td>1.797419</td>\n",
       "      <td>-0.158516</td>\n",
       "      <td>1.229768</td>\n",
       "      <td>1.051641</td>\n",
       "      <td>1.072391</td>\n",
       "    </tr>\n",
       "    <tr>\n",
       "      <th>2015-12-30</th>\n",
       "      <td>-1.305863</td>\n",
       "      <td>-0.691082</td>\n",
       "      <td>-0.735322</td>\n",
       "      <td>-0.828184</td>\n",
       "      <td>-0.424421</td>\n",
       "    </tr>\n",
       "    <tr>\n",
       "      <th>2015-12-31</th>\n",
       "      <td>-1.919517</td>\n",
       "      <td>-1.184853</td>\n",
       "      <td>0.322067</td>\n",
       "      <td>-0.977977</td>\n",
       "      <td>-1.473976</td>\n",
       "    </tr>\n",
       "  </tbody>\n",
       "</table>\n",
       "</div>"
      ],
      "text/plain": [
       "                AAPL       DIS        GE        GS      MSFT\n",
       "Date                                                        \n",
       "2015-12-24 -0.534017  0.284209 -0.387699 -0.262371 -0.268739\n",
       "2015-12-28 -1.120066  1.313055  0.227049 -0.465854  0.502980\n",
       "2015-12-29  1.797419 -0.158516  1.229768  1.051641  1.072391\n",
       "2015-12-30 -1.305863 -0.691082 -0.735322 -0.828184 -0.424421\n",
       "2015-12-31 -1.919517 -1.184853  0.322067 -0.977977 -1.473976"
      ]
     },
     "execution_count": 7,
     "metadata": {},
     "output_type": "execute_result"
    }
   ],
   "source": [
    "# Filter data to include only up to and including the year 2015\n",
    "data_until_2015 = data[:'2015']\n",
    "\n",
    "data_until_2015.tail()  # Display the last few rows to verify the filtering"
   ]
  },
  {
   "cell_type": "markdown",
   "metadata": {},
   "source": [
    "# Step 2.1: Computing Average Returns"
   ]
  },
  {
   "cell_type": "markdown",
   "metadata": {},
   "source": [
    "The average return for each stock is a critical input for portfolio optimization. We calculate it by taking the mean of the returns for each stock over our selected period. This gives us an idea of the expected return on each stock.\n"
   ]
  },
  {
   "cell_type": "code",
   "execution_count": 8,
   "metadata": {},
   "outputs": [
    {
     "data": {
      "text/plain": [
       "AAPL    0.124552\n",
       "DIS     0.056689\n",
       "GE      0.019221\n",
       "GS      0.050193\n",
       "MSFT    0.027795\n",
       "dtype: float64"
      ]
     },
     "execution_count": 8,
     "metadata": {},
     "output_type": "execute_result"
    }
   ],
   "source": [
    "# Compute the average returns for each stock\n",
    "average_returns = data_until_2015.mean()\n",
    "\n",
    "average_returns\n"
   ]
  },
  {
   "cell_type": "markdown",
   "metadata": {},
   "source": [
    "# Step 2.2: Computing the Covariance Matrix"
   ]
  },
  {
   "cell_type": "markdown",
   "metadata": {},
   "source": [
    "The covariance matrix is an essential component of portfolio optimization as it reflects the variability of returns between stocks. It helps in understanding how stocks move relative to each other, which is crucial for diversification and risk management.\n"
   ]
  },
  {
   "cell_type": "code",
   "execution_count": 9,
   "metadata": {},
   "outputs": [
    {
     "data": {
      "text/html": [
       "<div>\n",
       "<style scoped>\n",
       "    .dataframe tbody tr th:only-of-type {\n",
       "        vertical-align: middle;\n",
       "    }\n",
       "\n",
       "    .dataframe tbody tr th {\n",
       "        vertical-align: top;\n",
       "    }\n",
       "\n",
       "    .dataframe thead th {\n",
       "        text-align: right;\n",
       "    }\n",
       "</style>\n",
       "<table border=\"1\" class=\"dataframe\">\n",
       "  <thead>\n",
       "    <tr style=\"text-align: right;\">\n",
       "      <th></th>\n",
       "      <th>AAPL</th>\n",
       "      <th>DIS</th>\n",
       "      <th>GE</th>\n",
       "      <th>GS</th>\n",
       "      <th>MSFT</th>\n",
       "    </tr>\n",
       "  </thead>\n",
       "  <tbody>\n",
       "    <tr>\n",
       "      <th>AAPL</th>\n",
       "      <td>7.491433</td>\n",
       "      <td>1.820900</td>\n",
       "      <td>1.972199</td>\n",
       "      <td>2.460151</td>\n",
       "      <td>2.278628</td>\n",
       "    </tr>\n",
       "    <tr>\n",
       "      <th>DIS</th>\n",
       "      <td>1.820900</td>\n",
       "      <td>4.003684</td>\n",
       "      <td>2.076010</td>\n",
       "      <td>2.427742</td>\n",
       "      <td>1.796510</td>\n",
       "    </tr>\n",
       "    <tr>\n",
       "      <th>GE</th>\n",
       "      <td>1.972199</td>\n",
       "      <td>2.076010</td>\n",
       "      <td>3.924373</td>\n",
       "      <td>2.625809</td>\n",
       "      <td>1.783263</td>\n",
       "    </tr>\n",
       "    <tr>\n",
       "      <th>GS</th>\n",
       "      <td>2.460151</td>\n",
       "      <td>2.427742</td>\n",
       "      <td>2.625809</td>\n",
       "      <td>6.077517</td>\n",
       "      <td>2.323456</td>\n",
       "    </tr>\n",
       "    <tr>\n",
       "      <th>MSFT</th>\n",
       "      <td>2.278628</td>\n",
       "      <td>1.796510</td>\n",
       "      <td>1.783263</td>\n",
       "      <td>2.323456</td>\n",
       "      <td>4.027520</td>\n",
       "    </tr>\n",
       "  </tbody>\n",
       "</table>\n",
       "</div>"
      ],
      "text/plain": [
       "          AAPL       DIS        GE        GS      MSFT\n",
       "AAPL  7.491433  1.820900  1.972199  2.460151  2.278628\n",
       "DIS   1.820900  4.003684  2.076010  2.427742  1.796510\n",
       "GE    1.972199  2.076010  3.924373  2.625809  1.783263\n",
       "GS    2.460151  2.427742  2.625809  6.077517  2.323456\n",
       "MSFT  2.278628  1.796510  1.783263  2.323456  4.027520"
      ]
     },
     "execution_count": 9,
     "metadata": {},
     "output_type": "execute_result"
    }
   ],
   "source": [
    "# Compute the covariance matrix for the returns\n",
    "covariance_matrix = data_until_2015.cov()\n",
    "\n",
    "covariance_matrix\n"
   ]
  },
  {
   "cell_type": "markdown",
   "metadata": {},
   "source": [
    "# Step 3: Allocating Initial Portfolio Weights"
   ]
  },
  {
   "cell_type": "markdown",
   "metadata": {},
   "source": [
    "Now, we will allocate five cells for the portfolio weights. These weights represent the fraction of the total portfolio allocated to each asset. We will initialize these weights to 0.2, signifying that we start with an equal (20%) investment in each of the five stocks.\n"
   ]
  },
  {
   "cell_type": "code",
   "execution_count": 11,
   "metadata": {},
   "outputs": [
    {
     "data": {
      "text/plain": [
       "array([0.2, 0.2, 0.2, 0.2, 0.2])"
      ]
     },
     "execution_count": 11,
     "metadata": {},
     "output_type": "execute_result"
    }
   ],
   "source": [
    "import numpy as np\n",
    "\n",
    "# Allocate and initialize the portfolio weights to 20% for each of the five assets\n",
    "initial_weights = np.array([0.2, 0.2, 0.2, 0.2, 0.2])\n",
    "\n",
    "# Display the initial weights\n",
    "initial_weights\n"
   ]
  },
  {
   "cell_type": "markdown",
   "metadata": {},
   "source": [
    "# Step 4: Mean-Variance Efficient Portfolio Optimization\n",
    "\n",
    "To compute the mean-variance efficient portfolio, we aim to minimize the portfolio's variance subject to certain constraints. The optimization problem can be defined as follows:\n",
    "\n",
    "\\[ \\min_w w^T\\Sigma w \\]\n",
    "\n",
    "Subject to the constraints that the portfolio return equals some target return \\( r_p \\), and that the sum of the weights equals 1:\n",
    "\n",
    "\\[ w^T\\mu = r_p \\]\n",
    "\\[ w^T\\iota = 1 \\]\n",
    "\n",
    "where:\n",
    "- \\( w \\) is the vector of portfolio weights,\n",
    "- \\( \\Sigma \\) is the covariance matrix of asset returns,\n",
    "- \\( \\mu \\) is the vector of expected asset returns,\n",
    "- \\( r_p \\) is the target portfolio return,\n",
    "- \\( \\iota \\) is a vector of ones (to represent the sum of weights).\n",
    "\n",
    "We will use SciPy's optimization library to solve this problem. For the purpose of this example, let's assume the target return \\( r_p \\) is the average of the individual expected returns we calculated earlier.\n"
   ]
  },
  {
   "cell_type": "code",
   "execution_count": 13,
   "metadata": {},
   "outputs": [
    {
     "data": {
      "text/plain": [
       "(array([0.19607456, 0.33871315, 0.1956114 , 0.03633315, 0.23326774]),\n",
       " 2.6195024836554603)"
      ]
     },
     "execution_count": 13,
     "metadata": {},
     "output_type": "execute_result"
    }
   ],
   "source": [
    "from scipy.optimize import minimize\n",
    "\n",
    "# Define the optimization problem\n",
    "def portfolio_variance(weights, covariance_matrix):\n",
    "    return weights.T @ covariance_matrix @ weights\n",
    "\n",
    "# Define the constraints for the optimization\n",
    "# The portfolio's weights must sum to 1\n",
    "constraints = ({'type': 'eq', 'fun': lambda weights: np.sum(weights) - 1})\n",
    "\n",
    "# Let's assume the target return is the average of the average returns\n",
    "target_return = average_returns.mean()\n",
    "\n",
    "# The expected return of the portfolio equals the target return\n",
    "# This will be used as an additional constraint if necessary\n",
    "def portfolio_return(weights, expected_returns):\n",
    "    return weights.T @ expected_returns - target_return\n",
    "\n",
    "# Assuming the target return is the average return of the assets\n",
    "additional_constraints = ({'type': 'eq', 'fun': lambda weights: portfolio_return(weights, average_returns)})\n",
    "\n",
    "# Combine all constraints\n",
    "all_constraints = [constraints, additional_constraints]\n",
    "\n",
    "# Initial guess for the weights (equal weighting)\n",
    "initial_guess = np.full(len(average_returns), 1/len(average_returns))\n",
    "\n",
    "# Perform the optimization\n",
    "optimized_result = minimize(\n",
    "    fun=portfolio_variance,\n",
    "    x0=initial_guess,\n",
    "    args=(covariance_matrix,),\n",
    "    method='SLSQP',\n",
    "    constraints=all_constraints,\n",
    "    bounds=[(0, 1) for _ in range(len(average_returns))]  # This bounds the weights to be between 0 and 1\n",
    ")\n",
    "\n",
    "optimized_weights = optimized_result.x\n",
    "optimized_weights, portfolio_variance(optimized_weights, covariance_matrix)\n"
   ]
  },
  {
   "cell_type": "markdown",
   "metadata": {},
   "source": [
    "# Explanation\n",
    "\n",
    "Optimized Portfolio Weights:\n",
    "The optimization process has produced the following weights for each asset in the portfolio:\n",
    "\n",
    "Weight for Asset 1 (e.g., AAPL): 19.61%\n",
    "\n",
    "Weight for Asset 2 (e.g., DIS): 33.87%\n",
    "\n",
    "Weight for Asset 3 (e.g., GE): 19.56%\n",
    "\n",
    "Weight for Asset 4 (e.g., GS): 3.63%\n",
    "\n",
    "Weight for Asset 5 (e.g., MSFT): 23.33%\n",
    "\n",
    "These weights are the proportions of the total portfolio value that should be allocated to each asset in order to minimize the variance of the portfolio's return, given the constraints that the weights must sum to 1 (or 100%), and assuming the target return is the average return of these assets.\n",
    "\n",
    "Optimized Portfolio Variance:\n",
    "The portfolio variance resulting from these weights is 2.6195. This value represents the expected variability of the portfolio's returns. In the context of a mean-variance optimization framework, a lower variance is preferable because it implies lower risk or volatility."
   ]
  },
  {
   "cell_type": "markdown",
   "metadata": {},
   "source": [
    "# Step 5: Calculating the Target Portfolio Return (rp)\n",
    "\n",
    "To set a target return for the portfolio optimization, we will calculate the average return of only those stocks that have a positive expected return. This is based on the assumption that we want to target a return rate that reflects the performance of the better-performing assets in our selection.\n"
   ]
  },
  {
   "cell_type": "code",
   "execution_count": 14,
   "metadata": {},
   "outputs": [
    {
     "data": {
      "text/plain": [
       "0.0556897326187464"
      ]
     },
     "execution_count": 14,
     "metadata": {},
     "output_type": "execute_result"
    }
   ],
   "source": [
    "# Calculate the average of the stocks with positive average returns to use as the target return, rp\n",
    "positive_average_returns = average_returns[average_returns > 0]\n",
    "target_return_rp = positive_average_returns.mean()\n",
    "\n",
    "# Display the target return rp\n",
    "target_return_rp"
   ]
  },
  {
   "cell_type": "markdown",
   "metadata": {},
   "source": [
    "# Step 6: Determining the Mean-Variance Efficient Portfolio Weights\n",
    "\n",
    "Using the target return \\( r_p \\) calculated from the positive average returns, we will now determine the mean-variance efficient portfolio weights. We will solve for the weights that minimize the portfolio variance while achieving the target return. This optimization process involves a solver that takes into account the constraints of having all portfolio weights sum up to 1 and achieving the specified target return.\n"
   ]
  },
  {
   "cell_type": "code",
   "execution_count": 15,
   "metadata": {},
   "outputs": [
    {
     "data": {
      "text/plain": [
       "array([8.05901139e-01, 1.94098861e-01, 1.19348975e-15, 0.00000000e+00,\n",
       "       1.94289029e-16])"
      ]
     },
     "execution_count": 15,
     "metadata": {},
     "output_type": "execute_result"
    }
   ],
   "source": [
    "# Perform the optimization with the new target return rp\n",
    "# Adjust the constraint for the portfolio return to equal the new target return rp\n",
    "constraints = [\n",
    "    {'type': 'eq', 'fun': lambda weights: np.sum(weights) - 1},  # The sum of weights must be 1\n",
    "    {'type': 'eq', 'fun': lambda weights: portfolio_return(weights, average_returns) - target_return_rp}  # Target return constraint\n",
    "]\n",
    "\n",
    "# Perform the optimization using the same function and constraints, with the updated target return\n",
    "optimized_result_rp = minimize(\n",
    "    fun=portfolio_variance,\n",
    "    x0=initial_guess,\n",
    "    args=(covariance_matrix,),\n",
    "    method='SLSQP',\n",
    "    constraints=constraints,\n",
    "    bounds=[(0, 1) for _ in range(len(average_returns))]  # Weights between 0 and 1\n",
    ")\n",
    "\n",
    "# Extract the optimized weights\n",
    "optimized_weights_rp = optimized_result_rp.x\n",
    "\n",
    "# Display the optimized weights\n",
    "optimized_weights_rp\n"
   ]
  },
  {
   "cell_type": "markdown",
   "metadata": {},
   "source": [
    "# Computing Annualized Portfolio Returns\n",
    "\n",
    "After finding the optimized portfolio weights, we will use these weights to compute the annualized returns of the portfolio from 2015 to 2022. We will then analyze the mean and variance of the annualized portfolio returns and compare them with the 'promised' mean and variance from the optimization solver to see if they match or are close to each other.\n"
   ]
  },
  {
   "cell_type": "code",
   "execution_count": 16,
   "metadata": {},
   "outputs": [
    {
     "data": {
      "text/plain": [
       "(23.59531620083109, 756.9485582373021)"
      ]
     },
     "execution_count": 16,
     "metadata": {},
     "output_type": "execute_result"
    }
   ],
   "source": [
    "# Calculate the portfolio returns for the period 2015 to 2022\n",
    "data_from_2016 = data['2016':]  # Data from 2016 (inclusive) to the end of the dataset\n",
    "portfolio_returns = (data_from_2016 @ optimized_weights_rp).mean() * 252  # Annualizing the returns\n",
    "\n",
    "# Calculate the portfolio variance for the period 2015 to 2022\n",
    "portfolio_variance_annualized = (data_from_2016 @ optimized_weights_rp).var() * 252  # Annualizing the variance\n",
    "\n",
    "# Display the annualized portfolio returns and variance\n",
    "portfolio_returns, portfolio_variance_annualized\n"
   ]
  },
  {
   "cell_type": "markdown",
   "metadata": {},
   "source": [
    "# Explanation\n",
    "\n",
    "Annualized Portfolio Returns:\n",
    "Your portfolio's annualized return is 23.60%. This means that, on average, the portfolio would have yielded a return of 23.60% per year over the period of 2016 to 2022, based on the optimized weights from the solver.\n",
    "\n",
    "Annualized Portfolio Variance:\n",
    "The portfolio's annualized variance is 756.95. The variance is a measure of the spread of the portfolio's returns around the mean (annualized return). A higher variance indicates a higher level of risk or volatility. The square root of the variance, known as the standard deviation, is often used as a measure of risk."
   ]
  },
  {
   "cell_type": "markdown",
   "metadata": {},
   "source": [
    "# Step 7: Computing the Minimum Variance Portfolio (MVP)\n",
    "\n",
    "The Minimum Variance Portfolio is the portfolio with the lowest risk, which in this context is measured as variance. To find the MVP, we perform an optimization similar to before, but this time without setting a target return constraint. The optimization will only ensure that the weights sum up to 1 (100% of the capital is invested).\n"
   ]
  },
  {
   "cell_type": "code",
   "execution_count": 17,
   "metadata": {},
   "outputs": [
    {
     "data": {
      "text/plain": [
       "array([0.09044266, 0.28874646, 0.29391289, 0.02022814, 0.30666984])"
      ]
     },
     "execution_count": 17,
     "metadata": {},
     "output_type": "execute_result"
    }
   ],
   "source": [
    "# Perform the optimization to find the Minimum Variance Portfolio (MVP)\n",
    "# We adjust the constraints to only ensure that the weights sum to 1\n",
    "constraints = [{'type': 'eq', 'fun': lambda weights: np.sum(weights) - 1}]\n",
    "\n",
    "# Perform the optimization using the same function and constraints, without the target return constraint\n",
    "mvp_result = minimize(\n",
    "    fun=portfolio_variance,\n",
    "    x0=initial_guess,\n",
    "    args=(covariance_matrix,),\n",
    "    method='SLSQP',\n",
    "    constraints=constraints,\n",
    "    bounds=[(0, 1) for _ in range(len(average_returns))]  # Weights between 0 and 1\n",
    ")\n",
    "\n",
    "# Extract the optimized weights for the MVP\n",
    "mvp_weights = mvp_result.x\n",
    "\n",
    "# Display the optimized weights for the MVP\n",
    "mvp_weights\n"
   ]
  },
  {
   "cell_type": "markdown",
   "metadata": {},
   "source": [
    "# Analyzing Portfolio Performance: Training Period and Ex-Post\n",
    "\n",
    "We will now analyze the performance of the Minimum Variance Portfolio during the training period (up to and including 2015) as well as ex-post (2016 to 2022). This will provide insights into how well the optimization worked out-of-sample and whether the minimized variance during the training period translated into lower actual variance ex-post.\n"
   ]
  },
  {
   "cell_type": "code",
   "execution_count": 18,
   "metadata": {},
   "outputs": [
    {
     "data": {
      "text/plain": [
       "(10.791103206745094, 637.8402580735755, 9.88157274863712, 598.5376246006648)"
      ]
     },
     "execution_count": 18,
     "metadata": {},
     "output_type": "execute_result"
    }
   ],
   "source": [
    "# Calculate portfolio returns and variance during the training period using MVP weights\n",
    "training_period_returns = (data_until_2015 @ mvp_weights).mean() * 252  # Annualize the returns\n",
    "training_period_variance = (data_until_2015 @ mvp_weights).var() * 252  # Annualize the variance\n",
    "\n",
    "# Calculate portfolio returns and variance ex-post using MVP weights\n",
    "ex_post_returns = (data_from_2016 @ mvp_weights).mean() * 252  # Annualize the returns\n",
    "ex_post_variance = (data_from_2016 @ mvp_weights).var() * 252  # Annualize the variance\n",
    "\n",
    "# Display the annualized portfolio returns and variance for the training period and ex-post\n",
    "training_period_returns, training_period_variance, ex_post_returns, ex_post_variance\n"
   ]
  }
 ],
 "metadata": {
  "kernelspec": {
   "display_name": "Python 3",
   "language": "python",
   "name": "python3"
  },
  "language_info": {
   "codemirror_mode": {
    "name": "ipython",
    "version": 3
   },
   "file_extension": ".py",
   "mimetype": "text/x-python",
   "name": "python",
   "nbconvert_exporter": "python",
   "pygments_lexer": "ipython3",
   "version": "3.11.8"
  }
 },
 "nbformat": 4,
 "nbformat_minor": 2
}
